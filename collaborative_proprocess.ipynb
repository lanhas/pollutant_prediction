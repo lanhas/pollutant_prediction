{
 "cells": [
  {
   "cell_type": "code",
   "execution_count": 1,
   "id": "1092f4c5",
   "metadata": {},
   "outputs": [],
   "source": [
    "import numpy as np\n",
    "import pandas as pd\n",
    "\n",
    "# Visualization \n",
    "import matplotlib.pyplot as plt\n",
    "import missingno\n",
    "import seaborn as sns\n",
    "\n",
    "# Managing Warnings \n",
    "import warnings\n",
    "warnings.filterwarnings('ignore')\n",
    "\n",
    "# Plot the Figures Inline\n",
    "%matplotlib inline\n"
   ]
  },
  {
   "cell_type": "code",
   "execution_count": 2,
   "id": "fa702eef",
   "metadata": {},
   "outputs": [],
   "source": [
    "baseA_predict = pd.read_excel('附件1 监测点A空气质量预报基础数据.xlsx', sheet_name='监测点A逐小时污染物浓度与气象一次预报数据')\n",
    "baseA_real_hour = pd.read_excel('附件1 监测点A空气质量预报基础数据.xlsx', sheet_name='监测点A逐小时污染物浓度与气象实测数据')\n",
    "baseA1_predict = pd.read_excel('附件3 监测点A1、A2、A3空气质量预报基础数据.xlsx', sheet_name='监测点A1逐小时污染物浓度与气象一次预报数据')\n",
    "baseA1_real_hour = pd.read_excel('附件3 监测点A1、A2、A3空气质量预报基础数据.xlsx', sheet_name='监测点A1逐小时污染物浓度与气象实测数据')\n",
    "baseA2_predict = pd.read_excel('附件3 监测点A1、A2、A3空气质量预报基础数据.xlsx', sheet_name='监测点A2逐小时污染物浓度与气象一次预报数据')\n",
    "baseA2_real_hour = pd.read_excel('附件3 监测点A1、A2、A3空气质量预报基础数据.xlsx', sheet_name='监测点A2逐小时污染物浓度与气象实测数据')\n",
    "baseA3_predict = pd.read_excel('附件3 监测点A1、A2、A3空气质量预报基础数据.xlsx', sheet_name='监测点A3逐小时污染物浓度与气象一次预报数据')\n",
    "baseA3_real_hour = pd.read_excel('附件3 监测点A1、A2、A3空气质量预报基础数据.xlsx', sheet_name='监测点A3逐小时污染物浓度与气象实测数据')"
   ]
  },
  {
   "cell_type": "code",
   "execution_count": 3,
   "id": "2c6bab2d",
   "metadata": {},
   "outputs": [
    {
     "data": {
      "text/plain": [
       "Index(['监测时间', '地点', 'SO2监测浓度(μg/m³)', 'NO2监测浓度(μg/m³)', 'PM10监测浓度(μg/m³)',\n",
       "       'PM2.5监测浓度(μg/m³)', 'O3监测浓度(μg/m³)', 'CO监测浓度(mg/m³)', '温度(℃)', '湿度(%)',\n",
       "       '气压(MBar)', '风速(m/s)', '风向(°)'],\n",
       "      dtype='object')"
      ]
     },
     "execution_count": 3,
     "metadata": {},
     "output_type": "execute_result"
    }
   ],
   "source": [
    "baseA_real_hour.columns"
   ]
  },
  {
   "cell_type": "code",
   "execution_count": 4,
   "id": "fd242855",
   "metadata": {},
   "outputs": [],
   "source": [
    "# 转换数据格式并进行数据清洗\n",
    "def change_type(dfs, df_name):\n",
    "    res = []\n",
    "    if df_name == 'predict':\n",
    "        # 处理逐小时污染物浓度与气象一次预报数据\n",
    "        for df in dfs:\n",
    "            df.columns = ['模型运行日期', '预测时间', '地点', '近地2米温度（℃）', '地表温度（K）', '比湿（kg/kg）', '湿度（%）',\n",
    "               '近地10米风速（m/s）', '近地10米风向（°）', '雨量（mm）', '云量', '边界层高度（m）', '大气压（Kpa）',\n",
    "               '感热通量（W/m²）', '潜热通量（W/m²）', '长波辐射（W/m²）', '短波辐射（W/m²）', '地面太阳能辐射（W/m²）',\n",
    "               'SO2小时平均浓度(μg/m³)', 'NO2小时平均浓度(μg/m³)', 'PM10小时平均浓度(μg/m³)',\n",
    "               'PM2.5小时平均浓度(μg/m³)', 'O3小时平均浓度(μg/m³)', 'CO小时平均浓度(mg/m³)']\n",
    "\n",
    "            for column_numeric in ['近地2米温度（℃）', '地表温度（K）', '比湿（kg/kg）', '湿度（%）',\n",
    "               '近地10米风速（m/s）', '近地10米风向（°）', '雨量（mm）', '云量', '边界层高度（m）', '大气压（Kpa）',\n",
    "               '感热通量（W/m²）', '潜热通量（W/m²）', '长波辐射（W/m²）', '短波辐射（W/m²）', '地面太阳能辐射（W/m²）',\n",
    "               'SO2小时平均浓度(μg/m³)', 'NO2小时平均浓度(μg/m³)', 'PM10小时平均浓度(μg/m³)',\n",
    "               'PM2.5小时平均浓度(μg/m³)', 'O3小时平均浓度(μg/m³)', 'CO小时平均浓度(mg/m³)']:\n",
    "                df[column_numeric] = pd.to_numeric(df[column_numeric], errors='coerce')\n",
    "                # 将负数置为0\n",
    "                df[column_numeric][ df[column_numeric] < 0] = 0\n",
    "            df['模型运行日期'] =  pd.to_datetime(df['模型运行日期'])\n",
    "            df['预测时间'] =  pd.to_datetime(df['预测时间'])\n",
    "            # 临近值填充\n",
    "            df = df.fillna(method='pad')\n",
    "            res.append(df)\n",
    "    if df_name == 'real_hour':\n",
    "        # 处理逐小时污染物浓度与气象实测数据\n",
    "        for df in dfs:\n",
    "            df.columns = ['监测时间', '地点', 'SO2监测浓度(μg/m³)', 'NO2监测浓度(μg/m³)', 'PM10监测浓度(μg/m³)',\n",
    "               'PM2.5监测浓度(μg/m³)', 'O3监测浓度(μg/m³)', 'CO监测浓度(mg/m³)', '温度(℃)', '湿度(%)',\n",
    "               '气压(MBar)', '风速(m/s)', '风向(°)']\n",
    "\n",
    "            for column_numeric in ['SO2监测浓度(μg/m³)', 'NO2监测浓度(μg/m³)', 'PM10监测浓度(μg/m³)',\n",
    "               'PM2.5监测浓度(μg/m³)', 'O3监测浓度(μg/m³)', 'CO监测浓度(mg/m³)', '温度(℃)', '湿度(%)',\n",
    "               '气压(MBar)', '风速(m/s)', '风向(°)']:\n",
    "                df[column_numeric] = pd.to_numeric(df[column_numeric], errors='coerce')\n",
    "                # 将负数置为0\n",
    "                df[column_numeric][ df[column_numeric] < 0] = 0\n",
    "            df['监测时间'] =  pd.to_datetime(df['监测时间'])\n",
    "            # 临近值填充\n",
    "            df = df.fillna(method='pad')\n",
    "            res.append(df)\n",
    "    if df_name == 'real_day':\n",
    "        # 处理逐日污染物浓度实测数据\n",
    "        for df in dfs:\n",
    "            df.columns = ['监测日期', '地点', 'SO2监测浓度(μg/m³)', 'NO2监测浓度(μg/m³)', 'PM10监测浓度(μg/m³)',\n",
    "               'PM2.5监测浓度(μg/m³)', 'O3最大八小时滑动平均监测浓度(μg/m³)', 'CO监测浓度(mg/m³)']\n",
    "            for column_numeric in ['SO2监测浓度(μg/m³)', 'NO2监测浓度(μg/m³)', 'PM10监测浓度(μg/m³)',\n",
    "               'PM2.5监测浓度(μg/m³)', 'O3最大八小时滑动平均监测浓度(μg/m³)', 'CO监测浓度(mg/m³)']:\n",
    "                df[column_numeric] = pd.to_numeric(df[column_numeric], errors='coerce')\n",
    "                # 将负数置为0\n",
    "                df[column_numeric][ df[column_numeric] < 0] = 0\n",
    "            df['监测日期'] =  pd.to_datetime(df['监测日期'])\n",
    "            # 临近值填充\n",
    "            df = df.fillna(method='pad')\n",
    "            res.append(df)\n",
    "    return res\n",
    "baseA_predict, baseA1_predict, baseA2_predict, baseA3_predict = change_type((baseA_predict, baseA1_predict, baseA2_predict, baseA3_predict), 'predict')\n",
    "baseA_real_hour, baseA2_real_hour, baseA3_real_hour = change_type((baseA_real_hour, baseA2_real_hour, baseA3_real_hour), 'real_hour')\n"
   ]
  },
  {
   "cell_type": "code",
   "execution_count": 5,
   "id": "7900601b",
   "metadata": {},
   "outputs": [
    {
     "data": {
      "text/plain": [
       "Index(['监测时间', '地点', 'SO2监测浓度(μg/m³)', 'NO2监测浓度(μg/m³)', 'PM10监测浓度(μg/m³)',\n",
       "       'PM2.5监测浓度(μg/m³)', 'O3监测浓度(μg/m³)', 'CO监测浓度(mg/m³)', '温度(℃)', '湿度(%)',\n",
       "       '近地风速(m/s)', '风向(°)'],\n",
       "      dtype='object')"
      ]
     },
     "execution_count": 5,
     "metadata": {},
     "output_type": "execute_result"
    }
   ],
   "source": [
    "baseA1_real_hour.columns"
   ]
  },
  {
   "cell_type": "code",
   "execution_count": 6,
   "id": "466ed001",
   "metadata": {},
   "outputs": [],
   "source": [
    "for column_numeric in ['SO2监测浓度(μg/m³)', 'NO2监测浓度(μg/m³)', 'PM10监测浓度(μg/m³)',\n",
    "       'PM2.5监测浓度(μg/m³)', 'O3监测浓度(μg/m³)', 'CO监测浓度(mg/m³)', '温度(℃)', '湿度(%)',\n",
    "       '近地风速(m/s)', '风向(°)']:\n",
    "    \n",
    "    baseA1_real_hour[column_numeric] = pd.to_numeric(baseA1_real_hour[column_numeric], errors='coerce')\n",
    "    # 将负数置为0\n",
    "    baseA1_real_hour[column_numeric][ baseA1_real_hour[column_numeric] < 0] = 0\n",
    "baseA1_real_hour['监测时间'] =  pd.to_datetime(baseA1_real_hour['监测时间'])\n",
    "# 临近值填充\n",
    "baseA1_real_hour = baseA1_real_hour.fillna(method='pad')\n"
   ]
  },
  {
   "cell_type": "code",
   "execution_count": 7,
   "id": "be44e208",
   "metadata": {},
   "outputs": [],
   "source": [
    "# 去除无用数据（仅选择2020-7-20日之后的实测数据和2021-07-13 07:00:00之前的预测数据）\n",
    "def extract_data(dfs, df_name):\n",
    "    res = []\n",
    "    if df_name == 'predict':\n",
    "        for df in dfs:\n",
    "            df = df.set_index(['模型运行日期'], drop=False)\n",
    "            df = df.loc['2020-07-23':'2021-07-10']\n",
    "            res.append(df)\n",
    "    if df_name == 'real_hour':\n",
    "        for df in dfs:\n",
    "            df = df.set_index(['监测时间'], drop=False)\n",
    "            df = df.loc['2020-07-20 00:00:00':'2021-07-12 23:00:00']\n",
    "            res.append(df)\n",
    "    if df_name == 'real_day':\n",
    "        for df in dfs:\n",
    "            df = df.set_index(['监测日期'], drop=False)\n",
    "            df = df.loc['2020-07-20':'2021-07-12']\n",
    "            res.append(df)\n",
    "    return res\n",
    "baseA_predict, baseA1_predict, baseA2_predict, baseA3_predict = extract_data((baseA_predict, baseA1_predict, baseA2_predict, baseA3_predict),df_name= 'predict')\n",
    "baseA_real_hour, baseA1_real_hour, baseA2_real_hour, baseA3_real_hour = extract_data((baseA_real_hour, baseA1_real_hour, baseA2_real_hour, baseA3_real_hour), df_name='real_hour')\n",
    "# baseA_real_day, baseB_real_day, baseC_real_day = extract_data((baseA_real_day, baseB_real_day, baseC_real_day), df_name='real_day')"
   ]
  },
  {
   "cell_type": "code",
   "execution_count": 8,
   "id": "22194ff7",
   "metadata": {},
   "outputs": [],
   "source": [
    "# 为一次预报数据增加关联索引\n",
    "from pandas.tseries.offsets import *\n",
    "def time_index(dfs):\n",
    "    res = []\n",
    "    for df in dfs:\n",
    "        df['实测时间'] = df['预测时间']\n",
    "        df['实测时间'] = df['实测时间'] - DateOffset(days=3)\n",
    "        new_columns = ['模型运行日期', '预测时间', '实测时间', '地点', '近地2米温度（℃）', '地表温度（K）', '比湿（kg/kg）', '湿度（%）',\n",
    "                       '近地10米风速（m/s）', '近地10米风向（°）', '雨量（mm）', '云量', '边界层高度（m）', '大气压（Kpa）',\n",
    "                       '感热通量（W/m²）', '潜热通量（W/m²）', '长波辐射（W/m²）', '短波辐射（W/m²）', '地面太阳能辐射（W/m²）',\n",
    "                       'SO2小时平均浓度(μg/m³)', 'NO2小时平均浓度(μg/m³)', 'PM10小时平均浓度(μg/m³)',\n",
    "                       'PM2.5小时平均浓度(μg/m³)', 'O3小时平均浓度(μg/m³)', 'CO小时平均浓度(mg/m³)']\n",
    "        df = df.reindex(columns=new_columns)\n",
    "        res.append(df)\n",
    "    return res\n",
    "baseA_predict, baseA1_predict, baseA2_predict, baseA3_predict = time_index((baseA_predict, baseA1_predict, baseA2_predict, baseA3_predict))"
   ]
  },
  {
   "cell_type": "code",
   "execution_count": 9,
   "id": "d210f652",
   "metadata": {},
   "outputs": [
    {
     "data": {
      "text/plain": [
       "Index(['监测时间', '地点', 'SO2监测浓度(μg/m³)', 'NO2监测浓度(μg/m³)', 'PM10监测浓度(μg/m³)',\n",
       "       'PM2.5监测浓度(μg/m³)', 'O3监测浓度(μg/m³)', 'CO监测浓度(mg/m³)', '温度(℃)', '湿度(%)',\n",
       "       '近地风速(m/s)', '风向(°)'],\n",
       "      dtype='object')"
      ]
     },
     "execution_count": 9,
     "metadata": {},
     "output_type": "execute_result"
    }
   ],
   "source": [
    "baseA1_real_hour.columns"
   ]
  },
  {
   "cell_type": "code",
   "execution_count": 10,
   "id": "6c06b77d",
   "metadata": {},
   "outputs": [],
   "source": [
    "baseA1_real_hour['气压(MBar)'] = np.nan"
   ]
  },
  {
   "cell_type": "code",
   "execution_count": 11,
   "id": "b7263d57",
   "metadata": {},
   "outputs": [],
   "source": [
    "baseA1_real_hour.columns = ['监测时间', '地点', 'SO2监测浓度(μg/m³)', 'NO2监测浓度(μg/m³)', 'PM10监测浓度(μg/m³)',\n",
    "               'PM2.5监测浓度(μg/m³)', 'O3监测浓度(μg/m³)', 'CO监测浓度(mg/m³)', '温度(℃)', '湿度(%)',\n",
    "                '风速(m/s)', '风向(°)','气压(MBar)']\n",
    "new_columns = ['监测时间', '地点', 'SO2监测浓度(μg/m³)', 'NO2监测浓度(μg/m³)', 'PM10监测浓度(μg/m³)',\n",
    "               'PM2.5监测浓度(μg/m³)', 'O3监测浓度(μg/m³)', 'CO监测浓度(mg/m³)', '温度(℃)', '湿度(%)',\n",
    "               '气压(MBar)', '风速(m/s)', '风向(°)']\n",
    "baseA1_real_hour = baseA1_real_hour.reindex(columns=new_columns)"
   ]
  },
  {
   "cell_type": "code",
   "execution_count": null,
   "id": "ee59d326",
   "metadata": {},
   "outputs": [],
   "source": []
  },
  {
   "cell_type": "code",
   "execution_count": 12,
   "id": "945a1a21",
   "metadata": {},
   "outputs": [],
   "source": [
    "# 将实测浓度与预测值进行拼接\n",
    "def concat_astime(source_dfs, concat_dfs):\n",
    "    res = []\n",
    "    for source_df, concat_df in zip(source_dfs, concat_dfs):\n",
    "        concat_df = concat_df.set_index('监测时间', drop=False)\n",
    "        source_df[['SO2监测浓度(μg/m³)', 'NO2监测浓度(μg/m³)', 'PM10监测浓度(μg/m³)',\n",
    "                   'PM2.5监测浓度(μg/m³)', 'O3监测浓度(μg/m³)', 'CO监测浓度(mg/m³)', '温度(℃)', '湿度(%)',\n",
    "                   '气压(MBar)', '风速(m/s)', '风向(°)']] = np.nan\n",
    "        # 拼接气象数据\n",
    "        source_df = source_df.set_index('实测时间', drop=False)\n",
    "        for idx, val in concat_df.iterrows():\n",
    "            for column_name in ['温度(℃)', '湿度(%)','气压(MBar)', '风速(m/s)', '风向(°)']:\n",
    "                source_df.at[idx, column_name] = val[column_name]\n",
    "        # 拼接实测数据\n",
    "        source_df = source_df.set_index('预测时间', drop=False)\n",
    "        for idx, val in concat_df.iterrows():\n",
    "            for column_name in ['SO2监测浓度(μg/m³)', 'NO2监测浓度(μg/m³)', 'PM10监测浓度(μg/m³)',\n",
    "                   'PM2.5监测浓度(μg/m³)', 'O3监测浓度(μg/m³)', 'CO监测浓度(mg/m³)']:\n",
    "                source_df.at[idx, column_name] = val[column_name]\n",
    "        # 去除额外数据\n",
    "        source_df = source_df.set_index(['模型运行日期'], drop=False)\n",
    "        source_df = source_df.loc['2020-07-23':'2021-07-10']\n",
    "        res.append(source_df)\n",
    "    return res\n",
    "baseA_predict, baseA1_predict, baseA2_predict, baseA3_predict = concat_astime((baseA_predict, baseA1_predict, baseA2_predict, baseA3_predict), (baseA_real_hour, baseA1_real_hour, baseA2_real_hour, baseA3_real_hour))"
   ]
  },
  {
   "cell_type": "code",
   "execution_count": 13,
   "id": "c8135e35",
   "metadata": {},
   "outputs": [],
   "source": [
    "def cut_columns(dfs):\n",
    "    res = []\n",
    "    for df in dfs:\n",
    "        df = df[['模型运行日期', '预测时间', '实测时间', '地点', '近地2米温度（℃）', '地表温度（K）', '比湿（kg/kg）',\n",
    "               '湿度（%）', '近地10米风速（m/s）', '近地10米风向（°）', '雨量（mm）', '云量', '边界层高度（m）',\n",
    "               '大气压（Kpa）', '感热通量（W/m²）', '潜热通量（W/m²）', '长波辐射（W/m²）', '短波辐射（W/m²）',\n",
    "               '地面太阳能辐射（W/m²）', 'SO2小时平均浓度(μg/m³)', 'NO2小时平均浓度(μg/m³)',\n",
    "               'PM10小时平均浓度(μg/m³)', 'PM2.5小时平均浓度(μg/m³)', 'O3小时平均浓度(μg/m³)',\n",
    "               'CO小时平均浓度(mg/m³)', '温度(℃)', '湿度(%)', '气压(MBar)', '风速(m/s)', '风向(°)']]\n",
    "        res.append(df)\n",
    "    return res\n",
    "baseA1_predict, baseA2_predict, baseA3_predict = cut_columns((baseA1_predict, baseA2_predict, baseA3_predict))\n",
    "        "
   ]
  },
  {
   "cell_type": "code",
   "execution_count": 14,
   "id": "479d5e46",
   "metadata": {},
   "outputs": [],
   "source": [
    "def add_columns_location(columns, base_name):\n",
    "    res = []\n",
    "    for column in columns:\n",
    "        res.append(str(column)+str(base_name))\n",
    "    return res\n",
    "columns = ['模型运行日期', '预测时间', '实测时间', '地点', '近地2米温度（℃）', '地表温度（K）', '比湿（kg/kg）',\n",
    "               '湿度（%）', '近地10米风速（m/s）', '近地10米风向（°）', '雨量（mm）', '云量', '边界层高度（m）',\n",
    "               '大气压（Kpa）', '感热通量（W/m²）', '潜热通量（W/m²）', '长波辐射（W/m²）', '短波辐射（W/m²）',\n",
    "               '地面太阳能辐射（W/m²）', 'SO2小时平均浓度(μg/m³)', 'NO2小时平均浓度(μg/m³)',\n",
    "               'PM10小时平均浓度(μg/m³)', 'PM2.5小时平均浓度(μg/m³)', 'O3小时平均浓度(μg/m³)',\n",
    "               'CO小时平均浓度(mg/m³)', '温度(℃)', '湿度(%)', '气压(MBar)', '风速(m/s)', '风向(°)']\n",
    "baseA_predict.columns = add_columns_location(baseA_predict.columns, '_A')\n",
    "baseA1_predict.columns = add_columns_location(baseA1_predict.columns, '_A1')\n",
    "baseA2_predict.columns = add_columns_location(baseA2_predict.columns, '_A2')\n",
    "baseA3_predict.columns = add_columns_location(baseA3_predict.columns, '_A3')\n"
   ]
  },
  {
   "cell_type": "code",
   "execution_count": 15,
   "id": "72439e23",
   "metadata": {},
   "outputs": [
    {
     "data": {
      "text/plain": [
       "Index(['模型运行日期_A', '预测时间_A', '实测时间_A', '地点_A', '近地2米温度（℃）_A', '地表温度（K）_A',\n",
       "       '比湿（kg/kg）_A', '湿度（%）_A', '近地10米风速（m/s）_A', '近地10米风向（°）_A', '雨量（mm）_A',\n",
       "       '云量_A', '边界层高度（m）_A', '大气压（Kpa）_A', '感热通量（W/m²）_A', '潜热通量（W/m²）_A',\n",
       "       '长波辐射（W/m²）_A', '短波辐射（W/m²）_A', '地面太阳能辐射（W/m²）_A', 'SO2小时平均浓度(μg/m³)_A',\n",
       "       'NO2小时平均浓度(μg/m³)_A', 'PM10小时平均浓度(μg/m³)_A', 'PM2.5小时平均浓度(μg/m³)_A',\n",
       "       'O3小时平均浓度(μg/m³)_A', 'CO小时平均浓度(mg/m³)_A', 'SO2监测浓度(μg/m³)_A',\n",
       "       'NO2监测浓度(μg/m³)_A', 'PM10监测浓度(μg/m³)_A', 'PM2.5监测浓度(μg/m³)_A',\n",
       "       'O3监测浓度(μg/m³)_A', 'CO监测浓度(mg/m³)_A', '温度(℃)_A', '湿度(%)_A',\n",
       "       '气压(MBar)_A', '风速(m/s)_A', '风向(°)_A'],\n",
       "      dtype='object')"
      ]
     },
     "execution_count": 15,
     "metadata": {},
     "output_type": "execute_result"
    }
   ],
   "source": [
    "baseA_predict.columns"
   ]
  },
  {
   "cell_type": "code",
   "execution_count": 17,
   "id": "2e28b6a0",
   "metadata": {},
   "outputs": [],
   "source": [
    "baseA_predict = baseA_predict.set_index('预测时间_A', drop=False)\n",
    "baseA1_predict = baseA1_predict.set_index('预测时间_A1', drop=False)\n",
    "baseA2_predict = baseA2_predict.set_index('预测时间_A2', drop=False)\n",
    "baseA3_predict = baseA3_predict.set_index('预测时间_A3', drop=False)\n"
   ]
  },
  {
   "cell_type": "code",
   "execution_count": 50,
   "id": "7e84343a",
   "metadata": {},
   "outputs": [
    {
     "data": {
      "text/plain": [
       "Index(['模型运行日期_A1', '预测时间_A1', '实测时间_A1', '地点_A1', '近地2米温度（℃）_A1',\n",
       "       '地表温度（K）_A1', '比湿（kg/kg）_A1', '湿度（%）_A1', '近地10米风速（m/s）_A1',\n",
       "       '近地10米风向（°）_A1', '雨量（mm）_A1', '云量_A1', '边界层高度（m）_A1', '大气压（Kpa）_A1',\n",
       "       '感热通量（W/m²）_A1', '潜热通量（W/m²）_A1', '长波辐射（W/m²）_A1', '短波辐射（W/m²）_A1',\n",
       "       '地面太阳能辐射（W/m²）_A1', 'SO2小时平均浓度(μg/m³)_A1', 'NO2小时平均浓度(μg/m³)_A1',\n",
       "       'PM10小时平均浓度(μg/m³)_A1', 'PM2.5小时平均浓度(μg/m³)_A1', 'O3小时平均浓度(μg/m³)_A1',\n",
       "       'CO小时平均浓度(mg/m³)_A1', '温度(℃)_A1', '湿度(%)_A1', '气压(MBar)_A1',\n",
       "       '风速(m/s)_A1', '风向(°)_A1'],\n",
       "      dtype='object')"
      ]
     },
     "execution_count": 50,
     "metadata": {},
     "output_type": "execute_result"
    }
   ],
   "source": [
    "baseA1_predict.columns"
   ]
  },
  {
   "cell_type": "code",
   "execution_count": 66,
   "id": "5e60877d",
   "metadata": {},
   "outputs": [],
   "source": [
    "baseA_predict111 = baseA_predict.fillna(-1)\n",
    "baseA1_predict111 = baseA1_predict.fillna(-1)"
   ]
  },
  {
   "cell_type": "code",
   "execution_count": 67,
   "id": "01f6dddc",
   "metadata": {},
   "outputs": [],
   "source": [
    "base = pd.merge(baseA_predict111, baseA1_predict111, left_index=True, right_index=True)\n",
    "base = pd.merge(base, baseA2_predict, left_index=True, right_index=True)\n",
    "base = pd.merge(base, baseA3_predict, left_index=True, right_index=True)"
   ]
  },
  {
   "cell_type": "code",
   "execution_count": 22,
   "id": "7b05ed93",
   "metadata": {},
   "outputs": [],
   "source": [
    "base_temp = base.drop(['模型运行日期_A1', '预测时间_A1', '实测时间_A1','模型运行日期_A2', '预测时间_A2', '实测时间_A2','模型运行日期_A3', '预测时间_A3', '实测时间_A3'], axis=1)"
   ]
  },
  {
   "cell_type": "code",
   "execution_count": 27,
   "id": "f70548c7",
   "metadata": {},
   "outputs": [],
   "source": [
    "data_out = base_temp[['SO2监测浓度(μg/m³)_A',\n",
    "       'NO2监测浓度(μg/m³)_A', 'PM10监测浓度(μg/m³)_A', 'PM2.5监测浓度(μg/m³)_A',\n",
    "       'O3监测浓度(μg/m³)_A', 'CO监测浓度(mg/m³)_A']]\n",
    "data_in = base_temp.drop(['SO2监测浓度(μg/m³)_A',\n",
    "       'NO2监测浓度(μg/m³)_A', 'PM10监测浓度(μg/m³)_A', 'PM2.5监测浓度(μg/m³)_A',\n",
    "       'O3监测浓度(μg/m³)_A', 'CO监测浓度(mg/m³)_A'], axis=1)\n",
    "data_all = pd.concat([data_in, data_out], axis=1)"
   ]
  },
  {
   "cell_type": "code",
   "execution_count": 28,
   "id": "e4fd8e65",
   "metadata": {},
   "outputs": [
    {
     "data": {
      "text/plain": [
       "Index(['模型运行日期_A', '预测时间_A', '实测时间_A', '地点_A', '近地2米温度（℃）_A', '地表温度（K）_A',\n",
       "       '比湿（kg/kg）_A', '湿度（%）_A', '近地10米风速（m/s）_A', '近地10米风向（°）_A',\n",
       "       ...\n",
       "       '湿度(%)_A3', '气压(MBar)_A3', '风速(m/s)_A3', '风向(°)_A3', 'SO2监测浓度(μg/m³)_A',\n",
       "       'NO2监测浓度(μg/m³)_A', 'PM10监测浓度(μg/m³)_A', 'PM2.5监测浓度(μg/m³)_A',\n",
       "       'O3监测浓度(μg/m³)_A', 'CO监测浓度(mg/m³)_A'],\n",
       "      dtype='object', length=117)"
      ]
     },
     "execution_count": 28,
     "metadata": {},
     "output_type": "execute_result"
    }
   ],
   "source": [
    "data_all.columns"
   ]
  },
  {
   "cell_type": "code",
   "execution_count": 30,
   "id": "4695f0ea",
   "metadata": {},
   "outputs": [],
   "source": [
    "data_all = data_all.drop(['气压(MBar)_A1'], axis=1)"
   ]
  },
  {
   "cell_type": "code",
   "execution_count": 31,
   "id": "6f5715e7",
   "metadata": {},
   "outputs": [
    {
     "data": {
      "text/plain": [
       "<AxesSubplot:>"
      ]
     },
     "execution_count": 31,
     "metadata": {},
     "output_type": "execute_result"
    },
    {
     "data": {
      "image/png": "[encoded data removed]",
      "text/plain": [
       "<Figure size 1440x360 with 2 Axes>"
      ]
     },
     "metadata": {
      "needs_background": "light"
     },
     "output_type": "display_data"
    }
   ],
   "source": [
    "missingno.matrix(data_all, figsize = (20,5))"
   ]
  }
 ],
 "metadata": {
  "kernelspec": {
   "display_name": "Python [conda env:pytorch] *",
   "language": "python",
   "name": "conda-env-pytorch-py"
  },
  "language_info": {
   "codemirror_mode": {
    "name": "ipython",
    "version": 3
   },
   "file_extension": ".py",
   "mimetype": "text/x-python",
   "name": "python",
   "nbconvert_exporter": "python",
   "pygments_lexer": "ipython3",
   "version": "3.8.10"
  }
 },
 "nbformat": 4,
 "nbformat_minor": 5
}
